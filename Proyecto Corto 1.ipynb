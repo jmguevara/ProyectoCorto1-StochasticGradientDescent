{
 "cells": [
  {
   "cell_type": "markdown",
   "metadata": {},
   "source": [
    "# Introducción"
   ]
  },
  {
   "cell_type": "markdown",
   "metadata": {},
   "source": [
    "Es un enfoque simple pero muy eficiente para el aprendizaje discriminatorio de clasificadores lineales bajo funciones de pérdida convexa tales como Máquinas Vectoriales de Soporte (lineal) y Regresión Logística. A pesar de que SGD ha estado presente en la comunidad de aprendizaje automático durante mucho tiempo, ha recibido una considerable cantidad de atención recientemente en el contexto del aprendizaje a gran escala.\n",
    "\n",
    "SGD se ha aplicado con éxito a los problemas de aprendizaje a gran escala y escasa máquina de aprendizaje a menudo encontrados en la clasificación de textos y el procesamiento del lenguaje natural.\n",
    "Las ventajas del descenso de gradiente estocástico son:\n",
    "\n",
    "Eficiencia.\n",
    "\n",
    "Facilidad de implementación (muchas oportunidades para el ajuste del código).\n",
    "Las desventajas del descenso de gradiente estocástico incluyen:\n",
    "SGD requiere una serie de hiperparámetros como el parámetro de regularización y el número de iteraciones.\n",
    "SGD es sensible a la escala de las características.\n",
    "\n",
    "En el descenso de gradientes, un lote es la cantidad total de ejemplos que usas para calcular la gradiente en una sola iteración. Hasta ahora, hemos supuesto que el lote era el conjunto de datos completo. Al trabajar a la escala de Google, los conjuntos de datos suelen tener miles de millones o incluso cientos de miles de millones de ejemplos. Además, los conjuntos de datos de Google con frecuencia contienen inmensas cantidades de atributos. En consecuencia, un lote puede ser enorme. Un lote muy grande puede causar que incluso una sola iteración tome un tiempo muy prolongado para calcularse.\n",
    "\n",
    "Es probable que un conjunto de datos grande con ejemplos muestreados al azar contenga datos redundantes. De hecho, la redundancia se vuelve más probable a medida que aumenta el tamaño del lote. Un poco de redundancia puede ser útil para atenuar las gradientes inconsistentes, pero los lotes enormes tienden a no tener un valor mucho más predictivo que los lotes grandes.\n",
    "\n",
    "¿Cómo sería si pudiéramos obtener la gradiente correcta en promedio con mucho menos cómputo? Al elegir ejemplos al azar de nuestro conjunto de datos, podríamos estimar (si bien de manera inconsistente) un promedio grande de otro mucho más pequeño. El descenso de gradiente estocástico (SGD) lleva esta idea al extremo: usa un solo ejemplo (un tamaño del lote de 1) por iteración. Cuando se dan demasiadas iteraciones, el SGD funciona, pero es muy inconsistente. El término \"estocástico\" indica que el ejemplo único que compone cada lote se elige al azar."
   ]
  },
  {
   "cell_type": "markdown",
   "metadata": {},
   "source": [
    "# Ejemplo"
   ]
  },
  {
   "cell_type": "raw",
   "metadata": {},
   "source": [
    "Se realizan los import necesarios para ejecutar el ejemplo, los detalles de su instalación se encuentran en la sección README al final del documento."
   ]
  },
  {
   "cell_type": "raw",
   "metadata": {},
   "source": [
    "import matplotlib.pyplot as plt\n",
    "from sklearn.datasets.samples_generator import make_blobs\n",
    "import numpy as np\n",
    "import argparse"
   ]
  },
  {
   "cell_type": "raw",
   "metadata": {},
   "source": [
    "Se define la función de sigmoid, que retorna un valor entre 0 y 1. Se usa especialmente para modelos en los que tenemos que predecir una probabilidad de salida."
   ]
  },
  {
   "cell_type": "raw",
   "metadata": {},
   "source": [
    "def sigmoid_activation(x):\n",
    "\treturn 1.0 / (1 + np.exp(-x))"
   ]
  },
  {
   "cell_type": "raw",
   "metadata": {},
   "source": [
    "Se define la función que realizará el proceso de SGD en pequeños lotes de prueba. X es el set de datos que se evaluará, 'y' es la etiqueta asociada al set de datos y batchSize el tamaño del set de datos que se evaluará."
   ]
  },
  {
   "cell_type": "raw",
   "metadata": {},
   "source": [
    "def next_batch(X, y, batchSize):\n",
    "\tfor i in np.arange(0, X.shape[0], batchSize):\n",
    "\t\tyield (X[i:i + batchSize], y[i:i + batchSize])"
   ]
  },
  {
   "cell_type": "raw",
   "metadata": {},
   "source": [
    "Se genera un set de datos con el cual trabajar, make_blobs es una función incluida en la librería SkLearn que permite generar muestras, recibe como parámetros el número de pruebas que se van a generar, la cantidad de tipos diferentes de las pruebas, los centros en los datos, la desviación estándar de los datos y por último el seed que se usará para generar los números aleatorios."
   ]
  },
  {
   "cell_type": "raw",
   "metadata": {},
   "source": [
    "# (X, y) = make_blobs(n_samples=400, n_features=2, centers=2,\n",
    "\tcluster_std=2.5, random_state=95)"
   ]
  },
  {
   "cell_type": "raw",
   "metadata": {},
   "source": [
    "Ahora se inicializan los valores X,W y el arreglo de pérdida total, primero se inserta una columna de 1's como primer parámetro en el vector de caracteres para realizar el sesgo como parámetro de entrada dentro de la matriz de ponderación en lugar de hacerlo en una variable aparte.\n"
   ]
  },
  {
   "cell_type": "raw",
   "metadata": {
    "scrolled": true
   },
   "source": [
    "X = np.c_[np.ones((X.shape[0])), X]\n",
    "print(\"Iniciando entrenamiento...\")\n",
    "W = np.random.uniform(size=(X.shape[1],))\n",
    "lossHistory = []"
   ]
  },
  {
   "cell_type": "raw",
   "metadata": {},
   "source": [
    "A continuación se muestra la implementación del SGD"
   ]
  },
  {
   "cell_type": "raw",
   "metadata": {},
   "source": [
    "for epoch in np.arange(0, 100):\n",
    "\tepochLoss = []\n",
    "\tfor (batchX, batchY) in next_batch(X, y,32):\n",
    "\t\tpreds = sigmoid_activation(batchX.dot(W))\n",
    "\t\terror = preds - batchY\n",
    "\t\tloss = np.sum(error ** 2)\n",
    "\t\tepochLoss.append(loss)\n",
    "\t\tgradient = batchX.T.dot(error) / batchX.shape[0]\n",
    "\t\tW += -0.01 * gradient\n",
    "\tlossHistory.append(np.average(epochLoss))"
   ]
  },
  {
   "cell_type": "raw",
   "metadata": {},
   "source": [
    "A continuación se presenta el código anteriormente mostrado de manera ejecutable. Mostrará para cada iteración el gradiante y el porcentaje de pérdida de aprendizaje para que se pueda apreciar cómo por cada iteración disminuye gradualmente el valor de pérdida de aprendizaje. "
   ]
  },
  {
   "cell_type": "code",
   "execution_count": 1,
   "metadata": {},
   "outputs": [
    {
     "name": "stdout",
     "output_type": "stream",
     "text": [
      "===============================\n",
      "Gradient:  [ 0.03956312 -0.10239806 -0.17622657]\n",
      "Loss:  0.11030029623524192\n",
      "0\n",
      "===============================\n",
      "Gradient:  [ 0.03569743 -0.08008167 -0.15334354]\n",
      "Loss:  0.08960078115115332\n",
      "1\n",
      "===============================\n",
      "Gradient:  [ 0.03283498 -0.0663766  -0.13769789]\n",
      "Loss:  0.07570129280600123\n",
      "2\n",
      "===============================\n",
      "Gradient:  [ 0.03058496 -0.0570405  -0.12605256]\n",
      "Loss:  0.06560104511180824\n",
      "3\n",
      "===============================\n",
      "Gradient:  [ 0.02874534 -0.05023682 -0.116906  ]\n",
      "Loss:  0.057878002885539244\n",
      "4\n",
      "===============================\n",
      "Gradient:  [ 0.02719871 -0.04503779 -0.109451  ]\n",
      "Loss:  0.05175693968307814\n",
      "5\n",
      "===============================\n",
      "Gradient:  [ 0.02587103 -0.0409227  -0.10320819]\n",
      "Loss:  0.04677388404847894\n",
      "6\n",
      "===============================\n",
      "Gradient:  [ 0.02471275 -0.03757599 -0.09787168]\n",
      "Loss:  0.042631874273976404\n",
      "7\n",
      "===============================\n",
      "Gradient:  [ 0.02368909 -0.0347949  -0.09323532]\n",
      "Loss:  0.039130940368024704\n",
      "8\n",
      "===============================\n",
      "Gradient:  [ 0.02277481 -0.03244297 -0.08915419]\n",
      "Loss:  0.03613094636438976\n",
      "9\n",
      "===============================\n",
      "Gradient:  [ 0.02195097 -0.03042488 -0.0855228 ]\n",
      "Loss:  0.033530471860858654\n",
      "10\n",
      "===============================\n",
      "Gradient:  [ 0.02120307 -0.02867192 -0.0822622 ]\n",
      "Loss:  0.03125413691343543\n",
      "11\n",
      "===============================\n",
      "Gradient:  [ 0.02051972 -0.02713327 -0.07931189]\n",
      "Loss:  0.02924464852862579\n",
      "12\n",
      "===============================\n",
      "Gradient:  [ 0.01989186 -0.0257705  -0.07662455]\n",
      "Loss:  0.02745762158586234\n",
      "13\n",
      "===============================\n",
      "Gradient:  [ 0.01931216 -0.02455399 -0.07416257]\n",
      "Loss:  0.02585809894722905\n",
      "14\n",
      "===============================\n",
      "Gradient:  [ 0.0187746  -0.02346049 -0.07189555]\n",
      "Loss:  0.02441814948153539\n",
      "15\n",
      "===============================\n",
      "Gradient:  [ 0.01827419 -0.02247154 -0.06979864]\n",
      "Loss:  0.023115170905773457\n",
      "16\n",
      "===============================\n",
      "Gradient:  [ 0.01780675 -0.02157223 -0.06785128]\n",
      "Loss:  0.021930665794920246\n",
      "17\n",
      "===============================\n",
      "Gradient:  [ 0.01736873 -0.02075042 -0.06603628]\n",
      "Loss:  0.020849342690600414\n",
      "18\n",
      "===============================\n",
      "Gradient:  [ 0.01695712 -0.0199961  -0.06433912]\n",
      "Loss:  0.01985844520804245\n",
      "19\n",
      "===============================\n",
      "Gradient:  [ 0.01656933 -0.01930094 -0.06274745]\n",
      "Loss:  0.01894724400053587\n",
      "20\n",
      "===============================\n",
      "Gradient:  [ 0.01620311 -0.01865795 -0.0612507 ]\n",
      "Loss:  0.018106646983393405\n",
      "21\n",
      "===============================\n",
      "Gradient:  [ 0.01585651 -0.01806123 -0.05983973]\n",
      "Loss:  0.017328896719973026\n",
      "22\n",
      "===============================\n",
      "Gradient:  [ 0.01552782 -0.01750575 -0.05850659]\n",
      "Loss:  0.01660733292396773\n",
      "23\n",
      "===============================\n",
      "Gradient:  [ 0.01521553 -0.01698719 -0.05724437]\n",
      "Loss:  0.015936204211966367\n",
      "24\n",
      "===============================\n",
      "Gradient:  [ 0.01491831 -0.01650182 -0.05604697]\n",
      "Loss:  0.015310517529588398\n",
      "25\n",
      "===============================\n",
      "Gradient:  [ 0.01463498 -0.01604643 -0.05490902]\n",
      "Loss:  0.014725916696907763\n",
      "26\n",
      "===============================\n",
      "Gradient:  [ 0.01436449 -0.0156182  -0.05382575]\n",
      "Loss:  0.014178583678316686\n",
      "27\n",
      "===============================\n",
      "Gradient:  [ 0.01410588 -0.01521465 -0.05279293]\n",
      "Loss:  0.013665157744677012\n",
      "28\n",
      "===============================\n",
      "Gradient:  [ 0.01385832 -0.01483364 -0.05180677]\n",
      "Loss:  0.013182668839908993\n",
      "29\n",
      "===============================\n",
      "Gradient:  [ 0.01362103 -0.01447322 -0.05086387]\n",
      "Loss:  0.012728482311324738\n",
      "30\n",
      "===============================\n",
      "Gradient:  [ 0.01339333 -0.01413172 -0.04996116]\n",
      "Loss:  0.012300252796619142\n",
      "31\n",
      "===============================\n",
      "Gradient:  [ 0.01317458 -0.0138076  -0.0490959 ]\n",
      "Loss:  0.01189588553883818\n",
      "32\n",
      "===============================\n",
      "Gradient:  [ 0.01296423 -0.01349952 -0.04826558]\n",
      "Loss:  0.011513503765100984\n",
      "33\n",
      "===============================\n",
      "Gradient:  [ 0.01276173 -0.01320625 -0.04746791]\n",
      "Loss:  0.011151421044815903\n",
      "34\n",
      "===============================\n",
      "Gradient:  [ 0.01256663 -0.01292672 -0.04670085]\n",
      "Loss:  0.010808117759884524\n",
      "35\n",
      "===============================\n",
      "Gradient:  [ 0.01237848 -0.01265993 -0.04596249]\n",
      "Loss:  0.010482220988440469\n",
      "36\n",
      "===============================\n",
      "Gradient:  [ 0.01219688 -0.012405   -0.04525112]\n",
      "Loss:  0.010172487236437934\n",
      "37\n",
      "===============================\n",
      "Gradient:  [ 0.01202147 -0.01216111 -0.04456514]\n",
      "Loss:  0.00987778755636226\n",
      "38\n",
      "===============================\n",
      "Gradient:  [ 0.0118519  -0.01192753 -0.04390309]\n",
      "Loss:  0.009597094675823713\n",
      "39\n",
      "===============================\n",
      "Gradient:  [ 0.01168786 -0.01170359 -0.04326364]\n",
      "Loss:  0.00932947182559688\n",
      "40\n",
      "===============================\n",
      "Gradient:  [ 0.01152905 -0.01148869 -0.04264554]\n",
      "Loss:  0.009074063010417788\n",
      "41\n",
      "===============================\n",
      "Gradient:  [ 0.01137522 -0.01128225 -0.04204766]\n",
      "Loss:  0.008830084509327141\n",
      "42\n",
      "===============================\n",
      "Gradient:  [ 0.0112261  -0.01108377 -0.04146893]\n",
      "Loss:  0.008596817427693719\n",
      "43\n",
      "===============================\n",
      "Gradient:  [ 0.01108147 -0.01089278 -0.04090836]\n",
      "Loss:  0.008373601151923652\n",
      "44\n",
      "===============================\n",
      "Gradient:  [ 0.0109411  -0.01070884 -0.04036504]\n",
      "Loss:  0.008159827581555682\n",
      "45\n",
      "===============================\n",
      "Gradient:  [ 0.0108048  -0.01053155 -0.03983812]\n",
      "Loss:  0.00795493603297024\n",
      "46\n",
      "===============================\n",
      "Gradient:  [ 0.01067237 -0.01036054 -0.03932681]\n",
      "Loss:  0.007758408725104158\n",
      "47\n",
      "===============================\n",
      "Gradient:  [ 0.01054365 -0.01019546 -0.03883036]\n",
      "Loss:  0.007569766770993372\n",
      "48\n",
      "===============================\n",
      "Gradient:  [ 0.01041845 -0.01003601 -0.03834809]\n",
      "Loss:  0.007388566610170574\n",
      "49\n",
      "===============================\n",
      "Gradient:  [ 0.01029663 -0.00988188 -0.03787935]\n",
      "Loss:  0.007214396826324874\n",
      "50\n",
      "===============================\n",
      "Gradient:  [ 0.01017803 -0.00973281 -0.03742352]\n",
      "Loss:  0.007046875302511599\n",
      "51\n",
      "===============================\n",
      "Gradient:  [ 0.01006253 -0.00958853 -0.03698004]\n",
      "Loss:  0.006885646672845163\n",
      "52\n",
      "===============================\n",
      "Gradient:  [ 0.00995    -0.00944881 -0.03654838]\n",
      "Loss:  0.006730380035226465\n",
      "53\n",
      "===============================\n",
      "Gradient:  [ 0.0098403  -0.00931343 -0.03612802]\n",
      "Loss:  0.006580766894424961\n",
      "54\n",
      "===============================\n",
      "Gradient:  [ 0.00973333 -0.00918217 -0.03571851]\n",
      "Loss:  0.006436519308892182\n",
      "55\n",
      "===============================\n",
      "Gradient:  [ 0.00962897 -0.00905485 -0.03531938]\n",
      "Loss:  0.006297368218146181\n",
      "56\n",
      "===============================\n",
      "Gradient:  [ 0.00952713 -0.00893129 -0.03493023]\n",
      "Loss:  0.006163061930530109\n",
      "57\n",
      "===============================\n",
      "Gradient:  [ 0.00942771 -0.0088113  -0.03455065]\n",
      "Loss:  0.00603336475369096\n",
      "58\n",
      "===============================\n",
      "Gradient:  [ 0.00933061 -0.00869474 -0.03418026]\n",
      "Loss:  0.005908055752312616\n",
      "59\n",
      "===============================\n",
      "Gradient:  [ 0.00923575 -0.00858145 -0.03381872]\n",
      "Loss:  0.005786927619524515\n",
      "60\n",
      "===============================\n",
      "Gradient:  [ 0.00914305 -0.00847129 -0.03346568]\n",
      "Loss:  0.005669785650039672\n",
      "61\n",
      "===============================\n",
      "Gradient:  [ 0.00905242 -0.00836413 -0.03312082]\n",
      "Loss:  0.005556446804488758\n",
      "62\n",
      "===============================\n",
      "Gradient:  [ 0.00896379 -0.00825983 -0.03278385]\n",
      "Loss:  0.005446738855647161\n",
      "63\n",
      "===============================\n",
      "Gradient:  [ 0.0088771  -0.00815829 -0.03245447]\n",
      "Loss:  0.005340499608319772\n",
      "64\n",
      "===============================\n",
      "Gradient:  [ 0.00879227 -0.00805939 -0.03213242]\n",
      "Loss:  0.005237576185582589\n",
      "65\n",
      "===============================\n",
      "Gradient:  [ 0.00870925 -0.00796303 -0.03181743]\n",
      "Loss:  0.005137824374895022\n",
      "66\n",
      "===============================\n",
      "Gradient:  [ 0.00862796 -0.00786909 -0.03150926]\n",
      "Loss:  0.0050411080283118736\n",
      "67\n",
      "===============================\n",
      "Gradient:  [ 0.00854836 -0.0077775  -0.03120768]\n",
      "Loss:  0.004947298511650643\n",
      "68\n",
      "===============================\n",
      "Gradient:  [ 0.00847038 -0.00768815 -0.03091245]\n",
      "Loss:  0.004856274198021703\n",
      "69\n",
      "===============================\n",
      "Gradient:  [ 0.00839397 -0.00760097 -0.03062337]\n",
      "Loss:  0.004767920001614267\n",
      "70\n",
      "===============================\n",
      "Gradient:  [ 0.00831908 -0.00751588 -0.03034023]\n",
      "Loss:  0.004682126948059972\n",
      "71\n",
      "===============================\n",
      "Gradient:  [ 0.00824567 -0.00743278 -0.03006283]\n",
      "Loss:  0.004598791778075002\n",
      "72\n",
      "===============================\n",
      "Gradient:  [ 0.00817369 -0.00735163 -0.02979101]\n",
      "Loss:  0.004517816581417003\n",
      "73\n",
      "===============================\n"
     ]
    },
    {
     "name": "stdout",
     "output_type": "stream",
     "text": [
      "Gradient:  [ 0.00810309 -0.00727233 -0.02952456]\n",
      "Loss:  0.0044391084584911\n",
      "74\n",
      "===============================\n",
      "Gradient:  [ 0.00803383 -0.00719484 -0.02926334]\n",
      "Loss:  0.004362579207203369\n",
      "75\n",
      "===============================\n",
      "Gradient:  [ 0.00796588 -0.00711907 -0.02900717]\n",
      "Loss:  0.004288145032895735\n",
      "76\n",
      "===============================\n",
      "Gradient:  [ 0.00789918 -0.00704499 -0.02875589]\n",
      "Loss:  0.004215726279405808\n",
      "77\n",
      "===============================\n",
      "Gradient:  [ 0.00783371 -0.00697252 -0.02850937]\n",
      "Loss:  0.004145247179482222\n",
      "78\n",
      "===============================\n",
      "Gradient:  [ 0.00776943 -0.00690161 -0.02826746]\n",
      "Loss:  0.0040766356229535086\n",
      "79\n",
      "===============================\n",
      "Gradient:  [ 0.0077063  -0.00683222 -0.02803002]\n",
      "Loss:  0.004009822941197794\n",
      "80\n",
      "===============================\n",
      "Gradient:  [ 0.00764429 -0.00676428 -0.02779691]\n",
      "Loss:  0.003944743706595121\n",
      "81\n",
      "===============================\n",
      "Gradient:  [ 0.00758337 -0.00669777 -0.02756803]\n",
      "Loss:  0.003881335545764252\n",
      "82\n",
      "===============================\n",
      "Gradient:  [ 0.00752352 -0.00663261 -0.02734324]\n",
      "Loss:  0.0038195389654941325\n",
      "83\n",
      "===============================\n",
      "Gradient:  [ 0.00746469 -0.00656879 -0.02712242]\n",
      "Loss:  0.0037592971903772105\n",
      "84\n",
      "===============================\n",
      "Gradient:  [ 0.00740686 -0.00650625 -0.02690547]\n",
      "Loss:  0.003700556011239877\n",
      "85\n",
      "===============================\n",
      "Gradient:  [ 0.00735001 -0.00644495 -0.02669229]\n",
      "Loss:  0.0036432636435436557\n",
      "86\n",
      "===============================\n",
      "Gradient:  [ 0.00729411 -0.00638486 -0.02648276]\n",
      "Loss:  0.003587370595002805\n",
      "87\n",
      "===============================\n",
      "Gradient:  [ 0.00723913 -0.00632593 -0.02627678]\n",
      "Loss:  0.0035328295417279107\n",
      "88\n",
      "===============================\n",
      "Gradient:  [ 0.00718505 -0.00626815 -0.02607427]\n",
      "Loss:  0.0034795952122638352\n",
      "89\n",
      "===============================\n",
      "Gradient:  [ 0.00713185 -0.00621146 -0.02587513]\n",
      "Loss:  0.0034276242789429345\n",
      "90\n",
      "===============================\n",
      "Gradient:  [ 0.0070795  -0.00615584 -0.02567927]\n",
      "Loss:  0.003376875256022569\n",
      "91\n",
      "===============================\n",
      "Gradient:  [ 0.00702798 -0.00610125 -0.0254866 ]\n",
      "Loss:  0.003327308404119478\n",
      "92\n",
      "===============================\n",
      "Gradient:  [ 0.00697727 -0.00604767 -0.02529705]\n",
      "Loss:  0.0032788856404930397\n",
      "93\n",
      "===============================\n",
      "Gradient:  [ 0.00692735 -0.00599508 -0.02511053]\n",
      "Loss:  0.003231570454765474\n",
      "94\n",
      "===============================\n",
      "Gradient:  [ 0.00687821 -0.00594343 -0.02492697]\n",
      "Loss:  0.003185327829699828\n",
      "95\n",
      "===============================\n",
      "Gradient:  [ 0.00682982 -0.00589271 -0.0247463 ]\n",
      "Loss:  0.0031401241666864526\n",
      "96\n",
      "===============================\n",
      "Gradient:  [ 0.00678216 -0.00584288 -0.02456843]\n",
      "Loss:  0.0030959272156158837\n",
      "97\n",
      "===============================\n",
      "Gradient:  [ 0.00673522 -0.00579393 -0.02439331]\n",
      "Loss:  0.003052706008840963\n",
      "98\n",
      "===============================\n",
      "Gradient:  [ 0.00668897 -0.00574583 -0.02422086]\n",
      "Loss:  0.0030104307989537774\n",
      "99\n"
     ]
    }
   ],
   "source": [
    "import matplotlib.pyplot as plt \n",
    "from sklearn.datasets.samples_generator import make_blobs\n",
    "import numpy as np\n",
    "import argparse\n",
    "import time\n",
    "\n",
    "def sigmoid_activation(x):\n",
    "\treturn 1.0 / (1 + np.exp(-x))\n",
    "\n",
    "def next_batch(X, y, batchSize):\n",
    "\tfor i in np.arange(0, X.shape[0], batchSize):\n",
    "\t\tyield (X[i:i + batchSize], y[i:i + batchSize])\n",
    "\n",
    "(X, y) = make_blobs(n_samples=1000, n_features=2, centers=2,\n",
    "\tcluster_std=2.5, random_state=95)\n",
    "\n",
    "X = np.c_[np.ones((X.shape[0])), X]\n",
    "\n",
    "W = np.random.uniform(size=(X.shape[1],))\n",
    " \n",
    "lossHistory = []\n",
    "\n",
    "for epoch in np.arange(0, 100):\n",
    "\tepochLoss = []\n",
    "\tfor (batchX, batchY) in next_batch(X, y, 32):\n",
    "\t\tpreds = sigmoid_activation(batchX.dot(W))\n",
    "\t\terror = preds - batchY\n",
    "\t\tloss = np.sum(error ** 2)\n",
    "\t\tepochLoss.append(loss)\n",
    "\t\tgradient = batchX.T.dot(error) / batchX.shape[0]\n",
    "\t\tW += -0.01 * gradient\n",
    "\tprint(\"===============================\")\n",
    "\ttime.sleep(0.3)\n",
    "\tlossHistory.append(np.average(epochLoss))\n",
    "\tprint (\"Gradient: \",gradient)\n",
    "\tprint(\"Loss: \",loss)\n",
    "\tprint(epoch)\n"
   ]
  },
  {
   "cell_type": "markdown",
   "metadata": {},
   "source": [
    "# Ejemplos Gráficos"
   ]
  },
  {
   "cell_type": "raw",
   "metadata": {},
   "source": [
    "Para los ejemplos gráficos se añade una variable Y que graficará el valor de pérdida de aprendizaje y se hace uso de la librería MatPlotLib para graficar el resultado."
   ]
  },
  {
   "cell_type": "raw",
   "metadata": {},
   "source": [
    "Y = (-W[0] - (W[1] * X)) / W[2]\n",
    "\n",
    "plt.figure()\n",
    "plt.scatter(X[:, 1], X[:, 2], marker=\"o\", c=y)\n",
    "plt.plot(X, Y, \"r-\")\n",
    " \n",
    "fig = plt.figure()\n",
    "plt.plot(np.arange(0, 100), lossHistory)\n",
    "fig.suptitle(\"Perdida de Aprendizaje\")\n",
    "plt.xlabel(\"Fases\")\n",
    "plt.ylabel(\"Pérdida\")\n",
    "plt.show()"
   ]
  },
  {
   "cell_type": "markdown",
   "metadata": {},
   "source": [
    "### Ejemplo gráfico #1"
   ]
  },
  {
   "cell_type": "code",
   "execution_count": 2,
   "metadata": {},
   "outputs": [
    {
     "data": {
      "image/png": "[encoded data removed]",
      "text/plain": [
       "<Figure size 432x288 with 1 Axes>"
      ]
     },
     "metadata": {},
     "output_type": "display_data"
    },
    {
     "data": {
      "image/png": "[encoded data removed]",
      "text/plain": [
       "<Figure size 432x288 with 1 Axes>"
      ]
     },
     "metadata": {},
     "output_type": "display_data"
    }
   ],
   "source": [
    "import matplotlib.pyplot as plt \n",
    "from sklearn.datasets.samples_generator import make_blobs\n",
    "import numpy as np\n",
    "import argparse\n",
    "import time\n",
    "\n",
    "def sigmoid_activation(x):\n",
    "\treturn 1.0 / (1 + np.exp(-x))\n",
    "\n",
    "def next_batch(X, y, batchSize):\n",
    "\tfor i in np.arange(0, X.shape[0], batchSize):\n",
    "\t\tyield (X[i:i + batchSize], y[i:i + batchSize])\n",
    "\n",
    "(X, y) = make_blobs(n_samples=1000, n_features=2, centers=2,\n",
    "\tcluster_std=2.5, random_state=95)\n",
    "\n",
    "X = np.c_[np.ones((X.shape[0])), X]\n",
    " \n",
    "W = np.random.uniform(size=(X.shape[1],))\n",
    " \n",
    "lossHistory = []\n",
    "\n",
    "for epoch in np.arange(0, 100):\n",
    "\tepochLoss = []\n",
    "\tfor (batchX, batchY) in next_batch(X, y, 32):\n",
    "\t\tpreds = sigmoid_activation(batchX.dot(W))\n",
    "\t\terror = preds - batchY\n",
    "\t\tloss = np.sum(error ** 2)\n",
    "\t\tepochLoss.append(loss)\n",
    "\t\tgradient = batchX.T.dot(error) / batchX.shape[0]\n",
    "\t\tW += -0.001 * gradient\n",
    "\tlossHistory.append(np.average(epochLoss))\n",
    "Y = (-W[0] - (W[1] * X)) / W[2]\n",
    "\n",
    "plt.figure()\n",
    "plt.scatter(X[:, 1], X[:, 2], marker=\"o\", c=y)\n",
    "plt.plot(X, Y, \"r-\")\n",
    " \n",
    "fig = plt.figure()\n",
    "plt.plot(np.arange(0, 100), lossHistory)\n",
    "fig.suptitle(\"Perdida de Aprendizaje\")\n",
    "plt.xlabel(\"Fases\")\n",
    "plt.ylabel(\"Pérdida\")\n",
    "plt.show()"
   ]
  },
  {
   "cell_type": "markdown",
   "metadata": {},
   "source": [
    "### Ejemplo gráfico #2"
   ]
  },
  {
   "cell_type": "code",
   "execution_count": 3,
   "metadata": {},
   "outputs": [
    {
     "data": {
      "image/png": "[encoded data removed]",
      "text/plain": [
       "<Figure size 432x288 with 1 Axes>"
      ]
     },
     "metadata": {},
     "output_type": "display_data"
    },
    {
     "data": {
      "image/png": "[encoded data removed]",
      "text/plain": [
       "<Figure size 432x288 with 1 Axes>"
      ]
     },
     "metadata": {},
     "output_type": "display_data"
    }
   ],
   "source": [
    "import matplotlib.pyplot as plt \n",
    "from sklearn.datasets.samples_generator import make_blobs\n",
    "import numpy as np\n",
    "import argparse\n",
    "import time\n",
    "\n",
    "def sigmoid_activation(x):\n",
    "\treturn 1.0 / (1 + np.exp(-x))\n",
    "\n",
    "def next_batch(X, y, batchSize):\n",
    "\tfor i in np.arange(0, X.shape[0], batchSize):\n",
    "\t\tyield (X[i:i + batchSize], y[i:i + batchSize])\n",
    "\n",
    "(X, y) = make_blobs(n_samples=1000, n_features=2, centers=2,\n",
    "\tcluster_std=2.5, random_state=95)\n",
    "\n",
    "X = np.c_[np.ones((X.shape[0])), X]\n",
    " \n",
    "W = np.random.uniform(size=(X.shape[1],))\n",
    " \n",
    "lossHistory = []\n",
    "\n",
    "for epoch in np.arange(0, 100):\n",
    "\tepochLoss = []\n",
    "\tfor (batchX, batchY) in next_batch(X, y, 32):\n",
    "\t\tpreds = sigmoid_activation(batchX.dot(W))\n",
    "\t\terror = preds - batchY\n",
    "\t\tloss = np.sum(error ** 2)\n",
    "\t\tepochLoss.append(loss)\n",
    "\t\tgradient = batchX.T.dot(error) / batchX.shape[0]\n",
    "\t\tW += -0.01 * gradient\n",
    "\tlossHistory.append(np.average(epochLoss))\n",
    "Y = (-W[0] - (W[1] * X)) / W[2]\n",
    "\n",
    "plt.figure()\n",
    "plt.scatter(X[:, 1], X[:, 2], marker=\"o\", c=y)\n",
    "plt.plot(X, Y, \"r-\")\n",
    " \n",
    "fig = plt.figure()\n",
    "plt.plot(np.arange(0, 100), lossHistory)\n",
    "fig.suptitle(\"Perdida de Aprendizaje\")\n",
    "plt.xlabel(\"Fases\")\n",
    "plt.ylabel(\"Pérdida\")\n",
    "plt.show()"
   ]
  },
  {
   "cell_type": "markdown",
   "metadata": {},
   "source": [
    "# README"
   ]
  },
  {
   "cell_type": "markdown",
   "metadata": {},
   "source": [
    "### Jupyter"
   ]
  },
  {
   "cell_type": "raw",
   "metadata": {},
   "source": [
    "Jupyter es una aplicación que permite crear documentos (notebooks) que contienen tanto código ejecutable como fórmulas, ecuaciones y texto simple. Esto ayuda en planteamientos de problemas de simulación, modelado, visualización de datos entre otros."
   ]
  },
  {
   "cell_type": "markdown",
   "metadata": {},
   "source": [
    "###### Instalación"
   ]
  },
  {
   "cell_type": "raw",
   "metadata": {},
   "source": [
    "Para la instalación de Jupyter se requiere la librería de Python PyPi (pypi.org). Esta librería nos permitirá instalar Jupyter mediante el comando -pip install jupyter-. Si desea inicializarse en un puerto diferente basta agregar -port - y el número de puerto deseado. \n"
   ]
  },
  {
   "cell_type": "markdown",
   "metadata": {},
   "source": [
    "###### Jupyter notebook"
   ]
  },
  {
   "cell_type": "raw",
   "metadata": {},
   "source": [
    "Para crear un notebook se debe ingresar el comando Jupyter notebook, esto creará la instancia que será utilizada y por defecto, desplegará el navegador web predeterminado en localhost:8888."
   ]
  },
  {
   "cell_type": "markdown",
   "metadata": {},
   "source": [
    "###### Librerías necesarias"
   ]
  },
  {
   "cell_type": "raw",
   "metadata": {},
   "source": [
    "En el ejemplo se hace uso de las siguientes librerías:\n",
    "    MatPlotLib: Librería gráfica\n",
    "    NumPy: Librería matemática\n",
    "    ArgParse: Librería usada para el análisis (parser) de argumentos\n",
    "    SkLearn: Usada principalmente para el análisis de datos\n",
    "\n",
    "Para añadir las librerías, de manera similar a Jupyter, debe escribirse el el comando -pip install- seguido del nombre de la librería."
   ]
  },
  {
   "cell_type": "markdown",
   "metadata": {},
   "source": [
    "###### URL del ejemplo en Github"
   ]
  },
  {
   "cell_type": "raw",
   "metadata": {},
   "source": []
  },
  {
   "cell_type": "markdown",
   "metadata": {},
   "source": [
    "###### Referencias"
   ]
  },
  {
   "cell_type": "raw",
   "metadata": {},
   "source": [
    "https://jupyter.readthedocs.io/en/latest/install.html\n",
    "http://scikit-learn.org\n",
    "www.numpy.org/\n",
    "https://matplotlib.org/\n",
    "https://www.aprenderpython.net/descenso-gradientes-estocastico-sgd/\n",
    "https://developers.google.com/machine-learning/crash-course/reducing-loss/stochastic-gradient-descent?hl=es-419\n",
    "http://www.investigaciondeoperaciones.net/metodo_del_gradiente.html\n",
    "https://dlegorreta.wordpress.com/tag/gradiente-descendente/\n",
    "https://www.javiercancela.com/2017/04/09/python-machine-learning-iv/\n",
    "https://docs.scipy.org/doc/numpy-1.13.0/reference/generated/numpy.c_.html"
   ]
  }
 ],
 "metadata": {
  "kernelspec": {
   "display_name": "Python 3",
   "language": "python",
   "name": "python3"
  },
  "language_info": {
   "codemirror_mode": {
    "name": "ipython",
    "version": 3
   },
   "file_extension": ".py",
   "mimetype": "text/x-python",
   "name": "python",
   "nbconvert_exporter": "python",
   "pygments_lexer": "ipython3",
   "version": "3.6.6"
  }
 },
 "nbformat": 4,
 "nbformat_minor": 2
}
